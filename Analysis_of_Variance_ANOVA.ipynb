{
 "cells": [
  {
   "cell_type": "code",
   "execution_count": 1,
   "metadata": {},
   "outputs": [],
   "source": [
    "# import libraries\n",
    "import numpy as np\n",
    "import pandas as pd\n",
    "import scipy.stats as stats\n",
    "#import researchpy as rp\n",
    "import statsmodels.api as sm\n",
    "from statsmodels.formula.api import ols\n",
    "    \n",
    "import matplotlib.pyplot as plt"
   ]
  },
  {
   "cell_type": "code",
   "execution_count": 2,
   "metadata": {},
   "outputs": [],
   "source": [
    "from statsmodels.stats.multicomp import pairwise_tukeyhsd\n",
    "from statsmodels.stats.multicomp import MultiComparison"
   ]
  },
  {
   "cell_type": "code",
   "execution_count": 3,
   "metadata": {},
   "outputs": [],
   "source": [
    "# import data\n",
    "data_2018 = pd.read_csv('Data_2018_added_ZIP.csv')"
   ]
  },
  {
   "cell_type": "code",
   "execution_count": 4,
   "metadata": {},
   "outputs": [
    {
     "data": {
      "text/html": [
       "<div>\n",
       "<style scoped>\n",
       "    .dataframe tbody tr th:only-of-type {\n",
       "        vertical-align: middle;\n",
       "    }\n",
       "\n",
       "    .dataframe tbody tr th {\n",
       "        vertical-align: top;\n",
       "    }\n",
       "\n",
       "    .dataframe thead th {\n",
       "        text-align: right;\n",
       "    }\n",
       "</style>\n",
       "<table border=\"1\" class=\"dataframe\">\n",
       "  <thead>\n",
       "    <tr style=\"text-align: right;\">\n",
       "      <th></th>\n",
       "      <th>OccupancyDateTime</th>\n",
       "      <th>PaidOccupancy</th>\n",
       "      <th>BlockfaceName</th>\n",
       "      <th>SideOfStreet</th>\n",
       "      <th>SourceElementKey</th>\n",
       "      <th>ParkingTimeLimitCategory</th>\n",
       "      <th>ParkingSpaceCount</th>\n",
       "      <th>PaidParkingArea</th>\n",
       "      <th>PaidParkingSubArea</th>\n",
       "      <th>PaidParkingRate</th>\n",
       "      <th>...</th>\n",
       "      <th>DayInMonth</th>\n",
       "      <th>Weekday</th>\n",
       "      <th>HourIn24HourClock</th>\n",
       "      <th>MinutesInHour</th>\n",
       "      <th>Longitude</th>\n",
       "      <th>Latitude</th>\n",
       "      <th>ParkingAvailability</th>\n",
       "      <th>AdjustedParkingAvailability</th>\n",
       "      <th>geometry</th>\n",
       "      <th>ZIP</th>\n",
       "    </tr>\n",
       "  </thead>\n",
       "  <tbody>\n",
       "    <tr>\n",
       "      <th>0</th>\n",
       "      <td>04/20/2018 12:59:00 PM</td>\n",
       "      <td>2</td>\n",
       "      <td>MERCER ST BETWEEN PONTIUS AVE N AND YALE AVE N</td>\n",
       "      <td>S</td>\n",
       "      <td>11786</td>\n",
       "      <td>120.0</td>\n",
       "      <td>7</td>\n",
       "      <td>South Lake Union</td>\n",
       "      <td>South</td>\n",
       "      <td>NaN</td>\n",
       "      <td>...</td>\n",
       "      <td>20</td>\n",
       "      <td>Friday</td>\n",
       "      <td>12</td>\n",
       "      <td>59</td>\n",
       "      <td>-122.331086</td>\n",
       "      <td>47.624219</td>\n",
       "      <td>5</td>\n",
       "      <td>5</td>\n",
       "      <td>POINT (-122.33108562 47.6242189)</td>\n",
       "      <td>98109</td>\n",
       "    </tr>\n",
       "    <tr>\n",
       "      <th>1</th>\n",
       "      <td>04/20/2018 12:59:00 PM</td>\n",
       "      <td>0</td>\n",
       "      <td>9TH AVE BETWEEN JEFFERSON ST AND JAMES ST</td>\n",
       "      <td>SW</td>\n",
       "      <td>8601</td>\n",
       "      <td>120.0</td>\n",
       "      <td>2</td>\n",
       "      <td>First Hill</td>\n",
       "      <td>NaN</td>\n",
       "      <td>NaN</td>\n",
       "      <td>...</td>\n",
       "      <td>20</td>\n",
       "      <td>Friday</td>\n",
       "      <td>12</td>\n",
       "      <td>59</td>\n",
       "      <td>-122.324500</td>\n",
       "      <td>47.605151</td>\n",
       "      <td>2</td>\n",
       "      <td>2</td>\n",
       "      <td>POINT (-122.32449968 47.60515148)</td>\n",
       "      <td>98104</td>\n",
       "    </tr>\n",
       "    <tr>\n",
       "      <th>2</th>\n",
       "      <td>04/20/2018 12:59:00 PM</td>\n",
       "      <td>6</td>\n",
       "      <td>S MAIN ST BETWEEN 6TH AVE S AND MAYNARD AVE S</td>\n",
       "      <td>N</td>\n",
       "      <td>88773</td>\n",
       "      <td>120.0</td>\n",
       "      <td>12</td>\n",
       "      <td>Chinatown/ID</td>\n",
       "      <td>Edge</td>\n",
       "      <td>NaN</td>\n",
       "      <td>...</td>\n",
       "      <td>20</td>\n",
       "      <td>Friday</td>\n",
       "      <td>12</td>\n",
       "      <td>59</td>\n",
       "      <td>-122.325666</td>\n",
       "      <td>47.600108</td>\n",
       "      <td>6</td>\n",
       "      <td>6</td>\n",
       "      <td>POINT (-122.32566607 47.60010775)</td>\n",
       "      <td>98104</td>\n",
       "    </tr>\n",
       "    <tr>\n",
       "      <th>3</th>\n",
       "      <td>04/20/2018 12:59:00 PM</td>\n",
       "      <td>0</td>\n",
       "      <td>COLUMBIA ST BETWEEN BOREN AVE AND MINOR AVE</td>\n",
       "      <td>SE</td>\n",
       "      <td>32558</td>\n",
       "      <td>120.0</td>\n",
       "      <td>8</td>\n",
       "      <td>First Hill</td>\n",
       "      <td>NaN</td>\n",
       "      <td>NaN</td>\n",
       "      <td>...</td>\n",
       "      <td>20</td>\n",
       "      <td>Friday</td>\n",
       "      <td>12</td>\n",
       "      <td>59</td>\n",
       "      <td>-122.323201</td>\n",
       "      <td>47.608111</td>\n",
       "      <td>8</td>\n",
       "      <td>8</td>\n",
       "      <td>POINT (-122.32320088 47.60811139)</td>\n",
       "      <td>98104</td>\n",
       "    </tr>\n",
       "    <tr>\n",
       "      <th>4</th>\n",
       "      <td>04/20/2018 12:59:00 PM</td>\n",
       "      <td>8</td>\n",
       "      <td>NW 56TH ST BETWEEN 20TH AVE NW AND 22ND AVE NW</td>\n",
       "      <td>N</td>\n",
       "      <td>18621</td>\n",
       "      <td>240.0</td>\n",
       "      <td>11</td>\n",
       "      <td>Ballard</td>\n",
       "      <td>Edge</td>\n",
       "      <td>NaN</td>\n",
       "      <td>...</td>\n",
       "      <td>20</td>\n",
       "      <td>Friday</td>\n",
       "      <td>12</td>\n",
       "      <td>59</td>\n",
       "      <td>-122.383426</td>\n",
       "      <td>47.669513</td>\n",
       "      <td>3</td>\n",
       "      <td>3</td>\n",
       "      <td>POINT (-122.38342615 47.66951344)</td>\n",
       "      <td>98107</td>\n",
       "    </tr>\n",
       "  </tbody>\n",
       "</table>\n",
       "<p>5 rows × 31 columns</p>\n",
       "</div>"
      ],
      "text/plain": [
       "        OccupancyDateTime  PaidOccupancy  \\\n",
       "0  04/20/2018 12:59:00 PM              2   \n",
       "1  04/20/2018 12:59:00 PM              0   \n",
       "2  04/20/2018 12:59:00 PM              6   \n",
       "3  04/20/2018 12:59:00 PM              0   \n",
       "4  04/20/2018 12:59:00 PM              8   \n",
       "\n",
       "                                    BlockfaceName SideOfStreet  \\\n",
       "0  MERCER ST BETWEEN PONTIUS AVE N AND YALE AVE N            S   \n",
       "1       9TH AVE BETWEEN JEFFERSON ST AND JAMES ST           SW   \n",
       "2   S MAIN ST BETWEEN 6TH AVE S AND MAYNARD AVE S            N   \n",
       "3     COLUMBIA ST BETWEEN BOREN AVE AND MINOR AVE           SE   \n",
       "4  NW 56TH ST BETWEEN 20TH AVE NW AND 22ND AVE NW            N   \n",
       "\n",
       "   SourceElementKey  ParkingTimeLimitCategory  ParkingSpaceCount  \\\n",
       "0             11786                     120.0                  7   \n",
       "1              8601                     120.0                  2   \n",
       "2             88773                     120.0                 12   \n",
       "3             32558                     120.0                  8   \n",
       "4             18621                     240.0                 11   \n",
       "\n",
       "    PaidParkingArea PaidParkingSubArea  PaidParkingRate  ... DayInMonth  \\\n",
       "0  South Lake Union              South              NaN  ...         20   \n",
       "1        First Hill                NaN              NaN  ...         20   \n",
       "2      Chinatown/ID               Edge              NaN  ...         20   \n",
       "3        First Hill                NaN              NaN  ...         20   \n",
       "4           Ballard               Edge              NaN  ...         20   \n",
       "\n",
       "  Weekday  HourIn24HourClock  MinutesInHour   Longitude   Latitude  \\\n",
       "0  Friday                 12             59 -122.331086  47.624219   \n",
       "1  Friday                 12             59 -122.324500  47.605151   \n",
       "2  Friday                 12             59 -122.325666  47.600108   \n",
       "3  Friday                 12             59 -122.323201  47.608111   \n",
       "4  Friday                 12             59 -122.383426  47.669513   \n",
       "\n",
       "   ParkingAvailability AdjustedParkingAvailability  \\\n",
       "0                    5                           5   \n",
       "1                    2                           2   \n",
       "2                    6                           6   \n",
       "3                    8                           8   \n",
       "4                    3                           3   \n",
       "\n",
       "                            geometry    ZIP  \n",
       "0   POINT (-122.33108562 47.6242189)  98109  \n",
       "1  POINT (-122.32449968 47.60515148)  98104  \n",
       "2  POINT (-122.32566607 47.60010775)  98104  \n",
       "3  POINT (-122.32320088 47.60811139)  98104  \n",
       "4  POINT (-122.38342615 47.66951344)  98107  \n",
       "\n",
       "[5 rows x 31 columns]"
      ]
     },
     "execution_count": 4,
     "metadata": {},
     "output_type": "execute_result"
    }
   ],
   "source": [
    "data_2018.head()"
   ]
  },
  {
   "cell_type": "code",
   "execution_count": 5,
   "metadata": {},
   "outputs": [],
   "source": [
    "# create a dataframe from parking availability and weekday columns\n",
    "data_availability_weekday = data_2018[['AdjustedParkingAvailability', 'Weekday']]"
   ]
  },
  {
   "cell_type": "code",
   "execution_count": 6,
   "metadata": {},
   "outputs": [
    {
     "data": {
      "text/html": [
       "<div>\n",
       "<style scoped>\n",
       "    .dataframe tbody tr th:only-of-type {\n",
       "        vertical-align: middle;\n",
       "    }\n",
       "\n",
       "    .dataframe tbody tr th {\n",
       "        vertical-align: top;\n",
       "    }\n",
       "\n",
       "    .dataframe thead th {\n",
       "        text-align: right;\n",
       "    }\n",
       "</style>\n",
       "<table border=\"1\" class=\"dataframe\">\n",
       "  <thead>\n",
       "    <tr style=\"text-align: right;\">\n",
       "      <th></th>\n",
       "      <th>AdjustedParkingAvailability</th>\n",
       "      <th>Weekday</th>\n",
       "    </tr>\n",
       "  </thead>\n",
       "  <tbody>\n",
       "    <tr>\n",
       "      <th>0</th>\n",
       "      <td>5</td>\n",
       "      <td>Friday</td>\n",
       "    </tr>\n",
       "    <tr>\n",
       "      <th>1</th>\n",
       "      <td>2</td>\n",
       "      <td>Friday</td>\n",
       "    </tr>\n",
       "    <tr>\n",
       "      <th>2</th>\n",
       "      <td>6</td>\n",
       "      <td>Friday</td>\n",
       "    </tr>\n",
       "    <tr>\n",
       "      <th>3</th>\n",
       "      <td>8</td>\n",
       "      <td>Friday</td>\n",
       "    </tr>\n",
       "    <tr>\n",
       "      <th>4</th>\n",
       "      <td>3</td>\n",
       "      <td>Friday</td>\n",
       "    </tr>\n",
       "  </tbody>\n",
       "</table>\n",
       "</div>"
      ],
      "text/plain": [
       "   AdjustedParkingAvailability Weekday\n",
       "0                            5  Friday\n",
       "1                            2  Friday\n",
       "2                            6  Friday\n",
       "3                            8  Friday\n",
       "4                            3  Friday"
      ]
     },
     "execution_count": 6,
     "metadata": {},
     "output_type": "execute_result"
    }
   ],
   "source": [
    "data_availability_weekday.head()"
   ]
  },
  {
   "cell_type": "code",
   "execution_count": 7,
   "metadata": {},
   "outputs": [
    {
     "data": {
      "text/html": [
       "<div>\n",
       "<style scoped>\n",
       "    .dataframe tbody tr th:only-of-type {\n",
       "        vertical-align: middle;\n",
       "    }\n",
       "\n",
       "    .dataframe tbody tr th {\n",
       "        vertical-align: top;\n",
       "    }\n",
       "\n",
       "    .dataframe thead th {\n",
       "        text-align: right;\n",
       "    }\n",
       "</style>\n",
       "<table border=\"1\" class=\"dataframe\">\n",
       "  <thead>\n",
       "    <tr style=\"text-align: right;\">\n",
       "      <th></th>\n",
       "      <th>AdjustedParkingAvailability</th>\n",
       "    </tr>\n",
       "  </thead>\n",
       "  <tbody>\n",
       "    <tr>\n",
       "      <th>count</th>\n",
       "      <td>2.567124e+07</td>\n",
       "    </tr>\n",
       "    <tr>\n",
       "      <th>mean</th>\n",
       "      <td>4.236369e+00</td>\n",
       "    </tr>\n",
       "    <tr>\n",
       "      <th>std</th>\n",
       "      <td>3.802064e+00</td>\n",
       "    </tr>\n",
       "    <tr>\n",
       "      <th>min</th>\n",
       "      <td>0.000000e+00</td>\n",
       "    </tr>\n",
       "    <tr>\n",
       "      <th>25%</th>\n",
       "      <td>2.000000e+00</td>\n",
       "    </tr>\n",
       "    <tr>\n",
       "      <th>50%</th>\n",
       "      <td>4.000000e+00</td>\n",
       "    </tr>\n",
       "    <tr>\n",
       "      <th>75%</th>\n",
       "      <td>6.000000e+00</td>\n",
       "    </tr>\n",
       "    <tr>\n",
       "      <th>max</th>\n",
       "      <td>4.000000e+01</td>\n",
       "    </tr>\n",
       "  </tbody>\n",
       "</table>\n",
       "</div>"
      ],
      "text/plain": [
       "       AdjustedParkingAvailability\n",
       "count                 2.567124e+07\n",
       "mean                  4.236369e+00\n",
       "std                   3.802064e+00\n",
       "min                   0.000000e+00\n",
       "25%                   2.000000e+00\n",
       "50%                   4.000000e+00\n",
       "75%                   6.000000e+00\n",
       "max                   4.000000e+01"
      ]
     },
     "execution_count": 7,
     "metadata": {},
     "output_type": "execute_result"
    }
   ],
   "source": [
    "# check summary statistics\n",
    "data_availability_weekday.describe()"
   ]
  },
  {
   "cell_type": "markdown",
   "metadata": {},
   "source": [
    "null hypothesis: There is no difference in means of parking availability between days of the week (excluded Sunday)."
   ]
  },
  {
   "cell_type": "markdown",
   "metadata": {},
   "source": [
    "alternative hypothesis: There is difference between means of parking availability between days of the week (excluded Sunday)."
   ]
  },
  {
   "cell_type": "code",
   "execution_count": 8,
   "metadata": {},
   "outputs": [
    {
     "data": {
      "text/plain": [
       "F_onewayResult(statistic=6680.7207931521925, pvalue=0.0)"
      ]
     },
     "execution_count": 8,
     "metadata": {},
     "output_type": "execute_result"
    }
   ],
   "source": [
    "# ANOVA using scipy.stats\n",
    "stats.f_oneway(data_2018['AdjustedParkingAvailability'][data_2018['Weekday'] == 'Monday'], \n",
    "               data_2018['AdjustedParkingAvailability'][data_2018['Weekday'] == 'Tuesday'],\n",
    "               data_2018['AdjustedParkingAvailability'][data_2018['Weekday'] == 'Wednesday'],\n",
    "               data_2018['AdjustedParkingAvailability'][data_2018['Weekday'] == 'Thursday'], \n",
    "               data_2018['AdjustedParkingAvailability'][data_2018['Weekday'] == 'Friday'],\n",
    "               data_2018['AdjustedParkingAvailability'][data_2018['Weekday'] == 'Saturday'])"
   ]
  },
  {
   "cell_type": "markdown",
   "metadata": {},
   "source": [
    "The p-value = 0.0 indicates there is significant effect of day of the week on the parking availability."
   ]
  },
  {
   "cell_type": "code",
   "execution_count": 9,
   "metadata": {},
   "outputs": [
    {
     "data": {
      "text/html": [
       "<table class=\"simpletable\">\n",
       "<caption>OLS Regression Results</caption>\n",
       "<tr>\n",
       "  <th>Dep. Variable:</th>    <td>AdjustedParkingAvailability</td> <th>  R-squared:         </th>  <td>   0.001</td>  \n",
       "</tr>\n",
       "<tr>\n",
       "  <th>Model:</th>                        <td>OLS</td>             <th>  Adj. R-squared:    </th>  <td>   0.001</td>  \n",
       "</tr>\n",
       "<tr>\n",
       "  <th>Method:</th>                  <td>Least Squares</td>        <th>  F-statistic:       </th>  <td>   6681.</td>  \n",
       "</tr>\n",
       "<tr>\n",
       "  <th>Date:</th>                  <td>Tue, 13 Aug 2019</td>       <th>  Prob (F-statistic):</th>   <td>  0.00</td>   \n",
       "</tr>\n",
       "<tr>\n",
       "  <th>Time:</th>                      <td>21:03:40</td>           <th>  Log-Likelihood:    </th> <td>-7.0694e+07</td>\n",
       "</tr>\n",
       "<tr>\n",
       "  <th>No. Observations:</th>          <td>25671236</td>           <th>  AIC:               </th>  <td>1.414e+08</td> \n",
       "</tr>\n",
       "<tr>\n",
       "  <th>Df Residuals:</th>              <td>25671230</td>           <th>  BIC:               </th>  <td>1.414e+08</td> \n",
       "</tr>\n",
       "<tr>\n",
       "  <th>Df Model:</th>                   <td>     5</td>            <th>                     </th>      <td> </td>     \n",
       "</tr>\n",
       "<tr>\n",
       "  <th>Covariance Type:</th>           <td>nonrobust</td>          <th>                     </th>      <td> </td>     \n",
       "</tr>\n",
       "</table>\n",
       "<table class=\"simpletable\">\n",
       "<tr>\n",
       "             <td></td>                <th>coef</th>     <th>std err</th>      <th>t</th>      <th>P>|t|</th>  <th>[0.025</th>    <th>0.975]</th>  \n",
       "</tr>\n",
       "<tr>\n",
       "  <th>Intercept</th>               <td>    4.0933</td> <td>    0.002</td> <td> 2347.677</td> <td> 0.000</td> <td>    4.090</td> <td>    4.097</td>\n",
       "</tr>\n",
       "<tr>\n",
       "  <th>C(Weekday)[T.Monday]</th>    <td>    0.4074</td> <td>    0.003</td> <td>  155.652</td> <td> 0.000</td> <td>    0.402</td> <td>    0.412</td>\n",
       "</tr>\n",
       "<tr>\n",
       "  <th>C(Weekday)[T.Saturday]</th>  <td>   -0.0159</td> <td>    0.003</td> <td>   -6.083</td> <td> 0.000</td> <td>   -0.021</td> <td>   -0.011</td>\n",
       "</tr>\n",
       "<tr>\n",
       "  <th>C(Weekday)[T.Thursday]</th>  <td>    0.1260</td> <td>    0.002</td> <td>   51.086</td> <td> 0.000</td> <td>    0.121</td> <td>    0.131</td>\n",
       "</tr>\n",
       "<tr>\n",
       "  <th>C(Weekday)[T.Tuesday]</th>   <td>    0.2153</td> <td>    0.003</td> <td>   82.250</td> <td> 0.000</td> <td>    0.210</td> <td>    0.220</td>\n",
       "</tr>\n",
       "<tr>\n",
       "  <th>C(Weekday)[T.Wednesday]</th> <td>    0.1635</td> <td>    0.002</td> <td>   66.294</td> <td> 0.000</td> <td>    0.159</td> <td>    0.168</td>\n",
       "</tr>\n",
       "</table>\n",
       "<table class=\"simpletable\">\n",
       "<tr>\n",
       "  <th>Omnibus:</th>       <td>11822290.675</td> <th>  Durbin-Watson:     </th>   <td>   1.922</td>  \n",
       "</tr>\n",
       "<tr>\n",
       "  <th>Prob(Omnibus):</th>    <td> 0.000</td>    <th>  Jarque-Bera (JB):  </th> <td>90642725.158</td>\n",
       "</tr>\n",
       "<tr>\n",
       "  <th>Skew:</th>             <td> 2.069</td>    <th>  Prob(JB):          </th>   <td>    0.00</td>  \n",
       "</tr>\n",
       "<tr>\n",
       "  <th>Kurtosis:</th>         <td>11.223</td>    <th>  Cond. No.          </th>   <td>    6.56</td>  \n",
       "</tr>\n",
       "</table><br/><br/>Warnings:<br/>[1] Standard Errors assume that the covariance matrix of the errors is correctly specified."
      ],
      "text/plain": [
       "<class 'statsmodels.iolib.summary.Summary'>\n",
       "\"\"\"\n",
       "                                 OLS Regression Results                                \n",
       "=======================================================================================\n",
       "Dep. Variable:     AdjustedParkingAvailability   R-squared:                       0.001\n",
       "Model:                                     OLS   Adj. R-squared:                  0.001\n",
       "Method:                          Least Squares   F-statistic:                     6681.\n",
       "Date:                         Tue, 13 Aug 2019   Prob (F-statistic):               0.00\n",
       "Time:                                 21:03:40   Log-Likelihood:            -7.0694e+07\n",
       "No. Observations:                     25671236   AIC:                         1.414e+08\n",
       "Df Residuals:                         25671230   BIC:                         1.414e+08\n",
       "Df Model:                                    5                                         \n",
       "Covariance Type:                     nonrobust                                         \n",
       "===========================================================================================\n",
       "                              coef    std err          t      P>|t|      [0.025      0.975]\n",
       "-------------------------------------------------------------------------------------------\n",
       "Intercept                   4.0933      0.002   2347.677      0.000       4.090       4.097\n",
       "C(Weekday)[T.Monday]        0.4074      0.003    155.652      0.000       0.402       0.412\n",
       "C(Weekday)[T.Saturday]     -0.0159      0.003     -6.083      0.000      -0.021      -0.011\n",
       "C(Weekday)[T.Thursday]      0.1260      0.002     51.086      0.000       0.121       0.131\n",
       "C(Weekday)[T.Tuesday]       0.2153      0.003     82.250      0.000       0.210       0.220\n",
       "C(Weekday)[T.Wednesday]     0.1635      0.002     66.294      0.000       0.159       0.168\n",
       "==============================================================================\n",
       "Omnibus:                 11822290.675   Durbin-Watson:                   1.922\n",
       "Prob(Omnibus):                  0.000   Jarque-Bera (JB):         90642725.158\n",
       "Skew:                           2.069   Prob(JB):                         0.00\n",
       "Kurtosis:                      11.223   Cond. No.                         6.56\n",
       "==============================================================================\n",
       "\n",
       "Warnings:\n",
       "[1] Standard Errors assume that the covariance matrix of the errors is correctly specified.\n",
       "\"\"\""
      ]
     },
     "execution_count": 9,
     "metadata": {},
     "output_type": "execute_result"
    }
   ],
   "source": [
    "# ANOVA using statsmodels (regression formula)\n",
    "results = ols('AdjustedParkingAvailability ~ C(Weekday)', data=data_availability_weekday).fit()\n",
    "results.summary()"
   ]
  },
  {
   "cell_type": "markdown",
   "metadata": {},
   "source": [
    "The model is significiant, F(5,25671230)= 6681, p = 0.00. Based on the p-value we can say there is a significant difference in the group means.\n",
    "The coefficients (column 'coef'), are the difference in mean between the control group (Friday) and the respective group listed. \n",
    "The Intercept represents the mean for the group with Friday as a day of the week. The intercept is the control (base) group in the model.  \n",
    "Looking at the p-values (P>|t|), we can see the difference between the Friday group and any other group (Monday, Tuesday, Wednesday, Thursday or Saturday) is significant, p = 0.000. \n"
   ]
  },
  {
   "cell_type": "code",
   "execution_count": 10,
   "metadata": {},
   "outputs": [
    {
     "data": {
      "text/html": [
       "<div>\n",
       "<style scoped>\n",
       "    .dataframe tbody tr th:only-of-type {\n",
       "        vertical-align: middle;\n",
       "    }\n",
       "\n",
       "    .dataframe tbody tr th {\n",
       "        vertical-align: top;\n",
       "    }\n",
       "\n",
       "    .dataframe thead th {\n",
       "        text-align: right;\n",
       "    }\n",
       "</style>\n",
       "<table border=\"1\" class=\"dataframe\">\n",
       "  <thead>\n",
       "    <tr style=\"text-align: right;\">\n",
       "      <th></th>\n",
       "      <th>sum_sq</th>\n",
       "      <th>df</th>\n",
       "      <th>F</th>\n",
       "      <th>PR(&gt;F)</th>\n",
       "    </tr>\n",
       "  </thead>\n",
       "  <tbody>\n",
       "    <tr>\n",
       "      <th>C(Weekday)</th>\n",
       "      <td>4.822448e+05</td>\n",
       "      <td>5.0</td>\n",
       "      <td>6680.720793</td>\n",
       "      <td>0.0</td>\n",
       "    </tr>\n",
       "    <tr>\n",
       "      <th>Residual</th>\n",
       "      <td>3.706132e+08</td>\n",
       "      <td>25671230.0</td>\n",
       "      <td>NaN</td>\n",
       "      <td>NaN</td>\n",
       "    </tr>\n",
       "  </tbody>\n",
       "</table>\n",
       "</div>"
      ],
      "text/plain": [
       "                  sum_sq          df            F  PR(>F)\n",
       "C(Weekday)  4.822448e+05         5.0  6680.720793     0.0\n",
       "Residual    3.706132e+08  25671230.0          NaN     NaN"
      ]
     },
     "execution_count": 10,
     "metadata": {},
     "output_type": "execute_result"
    }
   ],
   "source": [
    "# getting ANOVA table\n",
    "aov_table = sm.stats.anova_lm(results, typ=2)\n",
    "aov_table"
   ]
  },
  {
   "cell_type": "markdown",
   "metadata": {},
   "source": [
    "The Weekday row is the between groups effect which is the overall experimental effect. \n",
    "The sum of squares for the model (sum_sq = 4.822448e+05) is how much variance is explained by the model. \n",
    "???? The current model explains a significant amount of variance, F(5,25671230)= 6681, p < 0.05. \n",
    "The Residual row is the unexplained variance or the unsystematic variation in the data (sum_sq = 3.706132e+08). \n",
    "In this case, the unsystematic variation represents the individual differences in parking availability and different reactions to a day of the week."
   ]
  },
  {
   "cell_type": "markdown",
   "metadata": {},
   "source": [
    "### Calculating Model Effect Size\n",
    "The effect size tells us how much of an impact the experiment will have in the real world. "
   ]
  },
  {
   "cell_type": "code",
   "execution_count": 11,
   "metadata": {},
   "outputs": [
    {
     "data": {
      "text/plain": [
       "(482244.7715768432, 370613196.69973636)"
      ]
     },
     "execution_count": 11,
     "metadata": {},
     "output_type": "execute_result"
    }
   ],
   "source": [
    "# extract sum_sq column values from ANOVA table\n",
    "aov_table.sum_sq[0], aov_table.sum_sq[1]"
   ]
  },
  {
   "cell_type": "code",
   "execution_count": 12,
   "metadata": {},
   "outputs": [
    {
     "name": "stdout",
     "output_type": "stream",
     "text": [
      "The current model accounts for 0.13% of the variance in contributing to parking availability.\n"
     ]
    }
   ],
   "source": [
    "# calculating eta squared - R2\n",
    "# formula: R2 and eta squared = SS_m/SS_r\n",
    "R2_and_eta_squared = aov_table.sum_sq[0]/(aov_table.sum_sq[0]+aov_table.sum_sq[1])\n",
    "print('The current model accounts for '+ str(round(R2_and_eta_squared,4)*100) + '% of the variance in contributing to parking availability.')"
   ]
  },
  {
   "cell_type": "code",
   "execution_count": 13,
   "metadata": {},
   "outputs": [
    {
     "name": "stdout",
     "output_type": "stream",
     "text": [
      "96448.95431536864 is the average amount of variance explained by the current model.\n",
      "14.436908426270824 is the average amount of variance unexplained by the current model.\n"
     ]
    }
   ],
   "source": [
    "# calculate the mean squares\n",
    "# formulas: \n",
    "# MS_m = SS_m/df_m, MS_r = SS_r/df_r\n",
    "MS_m = aov_table.sum_sq[0]/aov_table.df[0]\n",
    "MS_r = aov_table.sum_sq[1]/aov_table.df[1]\n",
    "print(MS_m, 'is the average amount of variance explained by the current model.') \n",
    "print(MS_r, 'is the average amount of variance unexplained by the current model.')"
   ]
  },
  {
   "cell_type": "code",
   "execution_count": 14,
   "metadata": {},
   "outputs": [
    {
     "data": {
      "text/html": [
       "<div>\n",
       "<style scoped>\n",
       "    .dataframe tbody tr th:only-of-type {\n",
       "        vertical-align: middle;\n",
       "    }\n",
       "\n",
       "    .dataframe tbody tr th {\n",
       "        vertical-align: top;\n",
       "    }\n",
       "\n",
       "    .dataframe thead th {\n",
       "        text-align: right;\n",
       "    }\n",
       "</style>\n",
       "<table border=\"1\" class=\"dataframe\">\n",
       "  <thead>\n",
       "    <tr style=\"text-align: right;\">\n",
       "      <th></th>\n",
       "      <th>sum_sq</th>\n",
       "      <th>df</th>\n",
       "      <th>mean_sq</th>\n",
       "      <th>F</th>\n",
       "      <th>PR(&gt;F)</th>\n",
       "      <th>eta_sq</th>\n",
       "      <th>omega_sq</th>\n",
       "    </tr>\n",
       "  </thead>\n",
       "  <tbody>\n",
       "    <tr>\n",
       "      <th>C(Weekday)</th>\n",
       "      <td>4.822448e+05</td>\n",
       "      <td>5.0</td>\n",
       "      <td>96448.954315</td>\n",
       "      <td>6680.720793</td>\n",
       "      <td>0.0</td>\n",
       "      <td>0.0013</td>\n",
       "      <td>0.001299</td>\n",
       "    </tr>\n",
       "    <tr>\n",
       "      <th>Residual</th>\n",
       "      <td>3.706132e+08</td>\n",
       "      <td>25671230.0</td>\n",
       "      <td>14.436908</td>\n",
       "      <td>NaN</td>\n",
       "      <td>NaN</td>\n",
       "      <td>NaN</td>\n",
       "      <td>NaN</td>\n",
       "    </tr>\n",
       "  </tbody>\n",
       "</table>\n",
       "</div>"
      ],
      "text/plain": [
       "                  sum_sq          df       mean_sq            F  PR(>F)  \\\n",
       "C(Weekday)  4.822448e+05         5.0  96448.954315  6680.720793     0.0   \n",
       "Residual    3.706132e+08  25671230.0     14.436908          NaN     NaN   \n",
       "\n",
       "            eta_sq  omega_sq  \n",
       "C(Weekday)  0.0013  0.001299  \n",
       "Residual       NaN       NaN  "
      ]
     },
     "execution_count": 14,
     "metadata": {},
     "output_type": "execute_result"
    }
   ],
   "source": [
    "# the function to calculate the effect sizes, the mean squares and then updates the table\n",
    "def anova_table(aov):\n",
    "    aov['mean_sq'] = aov[:]['sum_sq']/aov[:]['df']\n",
    "    \n",
    "    aov['eta_sq'] = aov[:-1]['sum_sq']/sum(aov['sum_sq'])\n",
    "    \n",
    "    aov['omega_sq'] = (aov[:-1]['sum_sq']-(aov[:-1]['df']*aov['mean_sq'][-1]))/(sum(aov['sum_sq'])+aov['mean_sq'][-1])\n",
    "    \n",
    "    cols = ['sum_sq', 'df', 'mean_sq', 'F', 'PR(>F)', 'eta_sq', 'omega_sq']\n",
    "    aov = aov[cols]\n",
    "    return aov\n",
    "\n",
    "anova_table(aov_table)"
   ]
  },
  {
   "cell_type": "markdown",
   "metadata": {},
   "source": [
    "From the anova_table we get the same values for the average amounts (mean_sq) as calculated above (MS_m and MS_r)."
   ]
  },
  {
   "cell_type": "markdown",
   "metadata": {},
   "source": [
    "### Ways to check assumptions\n"
   ]
  },
  {
   "cell_type": "markdown",
   "metadata": {},
   "source": [
    "##### Assumption: Homogeneity of Variance\n"
   ]
  },
  {
   "cell_type": "code",
   "execution_count": 15,
   "metadata": {},
   "outputs": [
    {
     "data": {
      "text/plain": [
       "LeveneResult(statistic=1079.103874847839, pvalue=0.0)"
      ]
     },
     "execution_count": 15,
     "metadata": {},
     "output_type": "execute_result"
    }
   ],
   "source": [
    "# use the Levene’s test to test for equal variances between groups\n",
    "stats.levene(data_2018['AdjustedParkingAvailability'][data_2018['Weekday'] == 'Monday'], \n",
    "             data_2018['AdjustedParkingAvailability'][data_2018['Weekday'] == 'Tuesday'],\n",
    "             data_2018['AdjustedParkingAvailability'][data_2018['Weekday'] == 'Wednesday'],\n",
    "             data_2018['AdjustedParkingAvailability'][data_2018['Weekday'] == 'Thursday'], \n",
    "             data_2018['AdjustedParkingAvailability'][data_2018['Weekday'] == 'Friday'],\n",
    "             data_2018['AdjustedParkingAvailability'][data_2018['Weekday'] == 'Saturday'])"
   ]
  },
  {
   "cell_type": "markdown",
   "metadata": {},
   "source": [
    "Levene’s test for homogeneity of variance is significant which indicates that the groups don't have equal variances."
   ]
  },
  {
   "cell_type": "markdown",
   "metadata": {},
   "source": [
    "##### Assumption: Normality\n"
   ]
  },
  {
   "cell_type": "code",
   "execution_count": 16,
   "metadata": {},
   "outputs": [
    {
     "name": "stderr",
     "output_type": "stream",
     "text": [
      "/anaconda3/envs/statenv/lib/python3.6/site-packages/scipy/stats/morestats.py:1660: UserWarning: p-value may not be accurate for N > 5000.\n",
      "  warnings.warn(\"p-value may not be accurate for N > 5000.\")\n"
     ]
    },
    {
     "data": {
      "text/plain": [
       "(0.8221884965896606, 0.0)"
      ]
     },
     "execution_count": 16,
     "metadata": {},
     "output_type": "execute_result"
    }
   ],
   "source": [
    "# using Shapiro method to test for normality\n",
    "stats.shapiro(results.resid)"
   ]
  },
  {
   "cell_type": "markdown",
   "metadata": {},
   "source": [
    "The results from the Shapiro-Wilk test is statistically significant which indicates that the residuals aren't normally distributed."
   ]
  },
  {
   "cell_type": "markdown",
   "metadata": {},
   "source": [
    "### Post-hoc Testing"
   ]
  },
  {
   "cell_type": "markdown",
   "metadata": {},
   "source": [
    "#### Tukey’s HSD Post-hoc comparison"
   ]
  },
  {
   "cell_type": "code",
   "execution_count": 17,
   "metadata": {},
   "outputs": [
    {
     "name": "stdout",
     "output_type": "stream",
     "text": [
      "  Multiple Comparison of Means - Tukey HSD, FWER=0.05   \n",
      "========================================================\n",
      " group1    group2  meandiff p-adj  lower   upper  reject\n",
      "--------------------------------------------------------\n",
      "  Friday    Monday   0.4074 0.001  0.3999  0.4148   True\n",
      "  Friday  Saturday  -0.0159 0.001 -0.0233 -0.0084   True\n",
      "  Friday  Thursday    0.126 0.001  0.1189   0.133   True\n",
      "  Friday   Tuesday   0.2153 0.001  0.2079  0.2228   True\n",
      "  Friday Wednesday   0.1635 0.001  0.1564  0.1705   True\n",
      "  Monday  Saturday  -0.4232 0.001  -0.431 -0.4154   True\n",
      "  Monday  Thursday  -0.2814 0.001 -0.2889 -0.2739   True\n",
      "  Monday   Tuesday   -0.192 0.001 -0.1999 -0.1842   True\n",
      "  Monday Wednesday  -0.2439 0.001 -0.2513 -0.2364   True\n",
      "Saturday  Thursday   0.1418 0.001  0.1344  0.1492   True\n",
      "Saturday   Tuesday   0.2312 0.001  0.2233   0.239   True\n",
      "Saturday Wednesday   0.1793 0.001  0.1719  0.1868   True\n",
      "Thursday   Tuesday   0.0894 0.001  0.0819  0.0968   True\n",
      "Thursday Wednesday   0.0375 0.001  0.0305  0.0445   True\n",
      " Tuesday Wednesday  -0.0519 0.001 -0.0593 -0.0444   True\n",
      "--------------------------------------------------------\n"
     ]
    }
   ],
   "source": [
    "# Tukey HSD post-hoc comparison test between different group means\n",
    "mc = MultiComparison(data_availability_weekday['AdjustedParkingAvailability'], data_availability_weekday['Weekday'])\n",
    "mc_results = mc.tukeyhsd()\n",
    "print(mc_results)"
   ]
  },
  {
   "cell_type": "markdown",
   "metadata": {},
   "source": [
    "The Tukey HSD post-hoc comparison test controls for type I error and maintains the familywise error rate at 0.05 (FWER= 0.05 top of the table). \n",
    "The group1 and group2 columns are the groups being compared. The meandiff column is the difference in means of the two groups (group2 – group1). \n",
    "The lower/upper columns are the lower/upper boundaries of the 95% confidence interval. The reject column tells us that we should reject the null hypothesis. "
   ]
  },
  {
   "cell_type": "markdown",
   "metadata": {},
   "source": [
    "#### Bonferroni Correction Post-hoc Comparison"
   ]
  },
  {
   "cell_type": "code",
   "execution_count": 18,
   "metadata": {},
   "outputs": [],
   "source": [
    "# first the corrected p-value needs to be calculated\n",
    "# this can be done using the formula:\n",
    "\n",
    "# p-value/number of comparisons = 0.05/15 = 0.00333"
   ]
  },
  {
   "cell_type": "markdown",
   "metadata": {},
   "source": [
    "The following t-tests that are conducted have to have a p-value less than 0.00333 in order to be considered significant."
   ]
  },
  {
   "cell_type": "code",
   "execution_count": 19,
   "metadata": {},
   "outputs": [
    {
     "data": {
      "text/plain": [
       "Ttest_indResult(statistic=-156.41844923644769, pvalue=0.0)"
      ]
     },
     "execution_count": 19,
     "metadata": {},
     "output_type": "execute_result"
    }
   ],
   "source": [
    "stats.ttest_ind(data_availability_weekday['AdjustedParkingAvailability'][data_availability_weekday['Weekday'] == 'Friday'], data_availability_weekday['AdjustedParkingAvailability'][data_availability_weekday['Weekday'] == 'Monday'])"
   ]
  },
  {
   "cell_type": "code",
   "execution_count": 20,
   "metadata": {},
   "outputs": [
    {
     "data": {
      "text/plain": [
       "Ttest_indResult(statistic=6.046515847499594, pvalue=1.4801774453020783e-09)"
      ]
     },
     "execution_count": 20,
     "metadata": {},
     "output_type": "execute_result"
    }
   ],
   "source": [
    "stats.ttest_ind(data_availability_weekday['AdjustedParkingAvailability'][data_availability_weekday['Weekday'] == 'Friday'], data_availability_weekday['AdjustedParkingAvailability'][data_availability_weekday['Weekday'] == 'Saturday'])"
   ]
  },
  {
   "cell_type": "code",
   "execution_count": 21,
   "metadata": {},
   "outputs": [
    {
     "data": {
      "text/plain": [
       "Ttest_indResult(statistic=-51.848628790778726, pvalue=0.0)"
      ]
     },
     "execution_count": 21,
     "metadata": {},
     "output_type": "execute_result"
    }
   ],
   "source": [
    "stats.ttest_ind(data_availability_weekday['AdjustedParkingAvailability'][data_availability_weekday['Weekday'] == 'Friday'], data_availability_weekday['AdjustedParkingAvailability'][data_availability_weekday['Weekday'] == 'Thursday'])"
   ]
  },
  {
   "cell_type": "code",
   "execution_count": 22,
   "metadata": {},
   "outputs": [
    {
     "data": {
      "text/plain": [
       "Ttest_indResult(statistic=-67.0941737837553, pvalue=0.0)"
      ]
     },
     "execution_count": 22,
     "metadata": {},
     "output_type": "execute_result"
    }
   ],
   "source": [
    "stats.ttest_ind(data_availability_weekday['AdjustedParkingAvailability'][data_availability_weekday['Weekday'] == 'Friday'], data_availability_weekday['AdjustedParkingAvailability'][data_availability_weekday['Weekday'] == 'Wednesday'])"
   ]
  },
  {
   "cell_type": "code",
   "execution_count": 23,
   "metadata": {},
   "outputs": [
    {
     "data": {
      "text/plain": [
       "Ttest_indResult(statistic=-83.27436720146751, pvalue=0.0)"
      ]
     },
     "execution_count": 23,
     "metadata": {},
     "output_type": "execute_result"
    }
   ],
   "source": [
    "stats.ttest_ind(data_availability_weekday['AdjustedParkingAvailability'][data_availability_weekday['Weekday'] == 'Friday'], data_availability_weekday['AdjustedParkingAvailability'][data_availability_weekday['Weekday'] == 'Tuesday'])"
   ]
  },
  {
   "cell_type": "code",
   "execution_count": 24,
   "metadata": {},
   "outputs": [
    {
     "data": {
      "text/plain": [
       "Ttest_indResult(statistic=150.35364855108426, pvalue=0.0)"
      ]
     },
     "execution_count": 24,
     "metadata": {},
     "output_type": "execute_result"
    }
   ],
   "source": [
    "stats.ttest_ind(data_availability_weekday['AdjustedParkingAvailability'][data_availability_weekday['Weekday'] == 'Monday'], data_availability_weekday['AdjustedParkingAvailability'][data_availability_weekday['Weekday'] == 'Saturday'])"
   ]
  },
  {
   "cell_type": "code",
   "execution_count": 25,
   "metadata": {},
   "outputs": [
    {
     "data": {
      "text/plain": [
       "Ttest_indResult(statistic=107.62520818465997, pvalue=0.0)"
      ]
     },
     "execution_count": 25,
     "metadata": {},
     "output_type": "execute_result"
    }
   ],
   "source": [
    "stats.ttest_ind(data_availability_weekday['AdjustedParkingAvailability'][data_availability_weekday['Weekday'] == 'Monday'], data_availability_weekday['AdjustedParkingAvailability'][data_availability_weekday['Weekday'] == 'Thursday'])"
   ]
  },
  {
   "cell_type": "code",
   "execution_count": 26,
   "metadata": {},
   "outputs": [
    {
     "data": {
      "text/plain": [
       "Ttest_indResult(statistic=92.98182417278841, pvalue=0.0)"
      ]
     },
     "execution_count": 26,
     "metadata": {},
     "output_type": "execute_result"
    }
   ],
   "source": [
    "stats.ttest_ind(data_availability_weekday['AdjustedParkingAvailability'][data_availability_weekday['Weekday'] == 'Monday'], data_availability_weekday['AdjustedParkingAvailability'][data_availability_weekday['Weekday'] == 'Wednesday'])"
   ]
  },
  {
   "cell_type": "code",
   "execution_count": 27,
   "metadata": {},
   "outputs": [
    {
     "data": {
      "text/plain": [
       "Ttest_indResult(statistic=69.30408294219237, pvalue=0.0)"
      ]
     },
     "execution_count": 27,
     "metadata": {},
     "output_type": "execute_result"
    }
   ],
   "source": [
    "stats.ttest_ind(data_availability_weekday['AdjustedParkingAvailability'][data_availability_weekday['Weekday'] == 'Monday'], data_availability_weekday['AdjustedParkingAvailability'][data_availability_weekday['Weekday'] == 'Tuesday'])"
   ]
  },
  {
   "cell_type": "code",
   "execution_count": 28,
   "metadata": {},
   "outputs": [
    {
     "data": {
      "text/plain": [
       "Ttest_indResult(statistic=-53.88250440620397, pvalue=0.0)"
      ]
     },
     "execution_count": 28,
     "metadata": {},
     "output_type": "execute_result"
    }
   ],
   "source": [
    "stats.ttest_ind(data_availability_weekday['AdjustedParkingAvailability'][data_availability_weekday['Weekday'] == 'Saturday'], data_availability_weekday['AdjustedParkingAvailability'][data_availability_weekday['Weekday'] == 'Thursday'])"
   ]
  },
  {
   "cell_type": "code",
   "execution_count": 29,
   "metadata": {},
   "outputs": [
    {
     "data": {
      "text/plain": [
       "Ttest_indResult(statistic=-67.92793047150971, pvalue=0.0)"
      ]
     },
     "execution_count": 29,
     "metadata": {},
     "output_type": "execute_result"
    }
   ],
   "source": [
    "stats.ttest_ind(data_availability_weekday['AdjustedParkingAvailability'][data_availability_weekday['Weekday'] == 'Saturday'], data_availability_weekday['AdjustedParkingAvailability'][data_availability_weekday['Weekday'] == 'Wednesday'])"
   ]
  },
  {
   "cell_type": "code",
   "execution_count": 30,
   "metadata": {},
   "outputs": [
    {
     "data": {
      "text/plain": [
       "Ttest_indResult(statistic=-82.75586706723547, pvalue=0.0)"
      ]
     },
     "execution_count": 30,
     "metadata": {},
     "output_type": "execute_result"
    }
   ],
   "source": [
    "stats.ttest_ind(data_availability_weekday['AdjustedParkingAvailability'][data_availability_weekday['Weekday'] == 'Saturday'], data_availability_weekday['AdjustedParkingAvailability'][data_availability_weekday['Weekday'] == 'Tuesday'])"
   ]
  },
  {
   "cell_type": "code",
   "execution_count": 31,
   "metadata": {},
   "outputs": [
    {
     "data": {
      "text/plain": [
       "Ttest_indResult(statistic=-34.42425583762316, pvalue=1.1395610124274872e-259)"
      ]
     },
     "execution_count": 31,
     "metadata": {},
     "output_type": "execute_result"
    }
   ],
   "source": [
    "stats.ttest_ind(data_availability_weekday['AdjustedParkingAvailability'][data_availability_weekday['Weekday'] == 'Thursday'], data_availability_weekday['AdjustedParkingAvailability'][data_availability_weekday['Weekday'] == 'Tuesday'])"
   ]
  },
  {
   "cell_type": "code",
   "execution_count": 32,
   "metadata": {},
   "outputs": [
    {
     "data": {
      "text/plain": [
       "Ttest_indResult(statistic=-15.342575048013279, pvalue=3.9770848328783924e-53)"
      ]
     },
     "execution_count": 32,
     "metadata": {},
     "output_type": "execute_result"
    }
   ],
   "source": [
    "stats.ttest_ind(data_availability_weekday['AdjustedParkingAvailability'][data_availability_weekday['Weekday'] == 'Thursday'], data_availability_weekday['AdjustedParkingAvailability'][data_availability_weekday['Weekday'] == 'Wednesday'])"
   ]
  },
  {
   "cell_type": "code",
   "execution_count": 33,
   "metadata": {},
   "outputs": [
    {
     "data": {
      "text/plain": [
       "Ttest_indResult(statistic=19.909835833956997, pvalue=3.3595968363383625e-88)"
      ]
     },
     "execution_count": 33,
     "metadata": {},
     "output_type": "execute_result"
    }
   ],
   "source": [
    "stats.ttest_ind(data_availability_weekday['AdjustedParkingAvailability'][data_availability_weekday['Weekday'] == 'Tuesday'], data_availability_weekday['AdjustedParkingAvailability'][data_availability_weekday['Weekday'] == 'Wednesday'])"
   ]
  },
  {
   "cell_type": "markdown",
   "metadata": {},
   "source": [
    "Using the Bonferroni correction, all the differences between groups are significantly different. "
   ]
  },
  {
   "cell_type": "code",
   "execution_count": 34,
   "metadata": {},
   "outputs": [
    {
     "data": {
      "text/plain": [
       "4749001"
      ]
     },
     "execution_count": 34,
     "metadata": {},
     "output_type": "execute_result"
    }
   ],
   "source": [
    "# counting number of rows where day is Friday\n",
    "len_friday = len(data_availability_weekday.loc[data_availability_weekday['Weekday'] == 'Friday'])\n",
    "len_friday"
   ]
  },
  {
   "cell_type": "code",
   "execution_count": 35,
   "metadata": {},
   "outputs": [
    {
     "data": {
      "text/plain": [
       "3790170"
      ]
     },
     "execution_count": 35,
     "metadata": {},
     "output_type": "execute_result"
    }
   ],
   "source": [
    "# counting number of rows where day is Monday\n",
    "len_monday = len(data_availability_weekday.loc[data_availability_weekday['Weekday'] == 'Monday'])\n",
    "len_monday"
   ]
  },
  {
   "cell_type": "code",
   "execution_count": 36,
   "metadata": {},
   "outputs": [
    {
     "data": {
      "text/plain": [
       "3785436"
      ]
     },
     "execution_count": 36,
     "metadata": {},
     "output_type": "execute_result"
    }
   ],
   "source": [
    "# # counting number of rows where day is Tuesday\n",
    "len_tuesday = len(data_availability_weekday.loc[data_availability_weekday['Weekday'] == 'Tuesday'])\n",
    "len_tuesday"
   ]
  },
  {
   "cell_type": "code",
   "execution_count": 37,
   "metadata": {},
   "outputs": [
    {
     "data": {
      "text/plain": [
       "4748139"
      ]
     },
     "execution_count": 37,
     "metadata": {},
     "output_type": "execute_result"
    }
   ],
   "source": [
    "# # counting number of rows where day is Wednesday\n",
    "len_wednesday = len(data_availability_weekday.loc[data_availability_weekday['Weekday'] == 'Wednesday'])\n",
    "len_wednesday"
   ]
  },
  {
   "cell_type": "code",
   "execution_count": 38,
   "metadata": {},
   "outputs": [
    {
     "data": {
      "text/plain": [
       "4750625"
      ]
     },
     "execution_count": 38,
     "metadata": {},
     "output_type": "execute_result"
    }
   ],
   "source": [
    "# counting number of rows where day is Thursday\n",
    "len_thursday = len(data_availability_weekday.loc[data_availability_weekday['Weekday'] == 'Thursday'])\n",
    "len_thursday"
   ]
  },
  {
   "cell_type": "code",
   "execution_count": 39,
   "metadata": {},
   "outputs": [
    {
     "data": {
      "text/plain": [
       "3847865"
      ]
     },
     "execution_count": 39,
     "metadata": {},
     "output_type": "execute_result"
    }
   ],
   "source": [
    "# # counting number of rows where day is Sunday\n",
    "len_saturday = len(data_availability_weekday.loc[data_availability_weekday['Weekday'] == 'Saturday'])\n",
    "len_saturday"
   ]
  },
  {
   "cell_type": "code",
   "execution_count": 40,
   "metadata": {},
   "outputs": [
    {
     "data": {
      "text/plain": [
       "8539166"
      ]
     },
     "execution_count": 40,
     "metadata": {},
     "output_type": "execute_result"
    }
   ],
   "source": [
    "# calculating degree of freedom \n",
    "# dof = number_observations_group1 + number_observations_group2 - number_of_groups\n",
    "dof = len_friday + len_monday - 5\n",
    "dof"
   ]
  },
  {
   "cell_type": "code",
   "execution_count": 41,
   "metadata": {},
   "outputs": [
    {
     "data": {
      "text/plain": [
       "0.028308553391662463"
      ]
     },
     "execution_count": 41,
     "metadata": {},
     "output_type": "execute_result"
    }
   ],
   "source": [
    "# calculating effect size\n",
    "# effect_size_r = np.sqrt(t2/t2 + dof)\n",
    "effect_size_r = np.sqrt((-82.756)**2/((-82.756)**2 + dof))\n",
    "effect_size_r"
   ]
  },
  {
   "cell_type": "markdown",
   "metadata": {},
   "source": [
    "Based on the effect size classification (low: 0.01 – 0.059, medium: 0.06 – 0.139, large: 0.14+), Friday has a low effect size."
   ]
  }
 ],
 "metadata": {
  "kernelspec": {
   "display_name": "Python 3",
   "language": "python",
   "name": "python3"
  },
  "language_info": {
   "codemirror_mode": {
    "name": "ipython",
    "version": 3
   },
   "file_extension": ".py",
   "mimetype": "text/x-python",
   "name": "python",
   "nbconvert_exporter": "python",
   "pygments_lexer": "ipython3",
   "version": "3.6.8"
  }
 },
 "nbformat": 4,
 "nbformat_minor": 2
}
